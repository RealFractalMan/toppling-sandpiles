{
 "cells": [
  {
   "cell_type": "markdown",
   "id": "60a75374",
   "metadata": {},
   "source": [
    "# Cylinder Surface Sandpile\n",
    "\n",
    "The notebook below takes a 2D texture and wraps it around a 3D cylinder frame. If **rotate == True** the cylinder will rotate 360 degrees take a video frame at every turn."
   ]
  },
  {
   "cell_type": "code",
   "execution_count": 1,
   "id": "7cdee4a6",
   "metadata": {},
   "outputs": [
    {
     "data": {
      "text/html": [
       "<div id=\"glowscript\" class=\"glowscript\"></div>"
      ],
      "text/plain": [
       "<IPython.core.display.HTML object>"
      ]
     },
     "metadata": {},
     "output_type": "display_data"
    },
    {
     "data": {
      "application/javascript": [
       "if (typeof Jupyter !== \"undefined\") { window.__context = { glowscript_container: $(\"#glowscript\").removeAttr(\"id\")};}else{ element.textContent = ' ';}"
      ],
      "text/plain": [
       "<IPython.core.display.Javascript object>"
      ]
     },
     "metadata": {},
     "output_type": "display_data"
    },
    {
     "data": {
      "text/html": [
       "<div id=\"glowscript\" class=\"glowscript\"></div>"
      ],
      "text/plain": [
       "<IPython.core.display.HTML object>"
      ]
     },
     "metadata": {},
     "output_type": "display_data"
    },
    {
     "data": {
      "application/javascript": [
       "if (typeof Jupyter !== \"undefined\") { window.__context = { glowscript_container: $(\"#glowscript\").removeAttr(\"id\")};}else{ element.textContent = ' ';}"
      ],
      "text/plain": [
       "<IPython.core.display.Javascript object>"
      ]
     },
     "metadata": {},
     "output_type": "display_data"
    }
   ],
   "source": [
    "from vpython import *\n",
    "scene = canvas()\n",
    "scene.width = scene.height = 960\n",
    "\n",
    "rotate = False\n",
    "filenom = 'images/Cylinder_LineX_03drops_100k_01.png'"
   ]
  },
  {
   "cell_type": "markdown",
   "id": "6e6a204f",
   "metadata": {},
   "source": [
    "Create snapshot button and attached function."
   ]
  },
  {
   "cell_type": "code",
   "execution_count": 2,
   "id": "fadd8e58",
   "metadata": {},
   "outputs": [
    {
     "data": {
      "application/javascript": [
       "if (typeof Jupyter !== \"undefined\") {require.undef(\"nbextensions/vpython_libraries/glow.min\");}else{element.textContent = ' ';}"
      ],
      "text/plain": [
       "<IPython.core.display.Javascript object>"
      ]
     },
     "metadata": {},
     "output_type": "display_data"
    },
    {
     "data": {
      "application/javascript": [
       "if (typeof Jupyter !== \"undefined\") {require.undef(\"nbextensions/vpython_libraries/glowcomm\");}else{element.textContent = ' ';}"
      ],
      "text/plain": [
       "<IPython.core.display.Javascript object>"
      ]
     },
     "metadata": {},
     "output_type": "display_data"
    },
    {
     "data": {
      "application/javascript": [
       "if (typeof Jupyter !== \"undefined\") {require.undef(\"nbextensions/vpython_libraries/jquery-ui.custom.min\");}else{element.textContent = ' ';}"
      ],
      "text/plain": [
       "<IPython.core.display.Javascript object>"
      ]
     },
     "metadata": {},
     "output_type": "display_data"
    },
    {
     "data": {
      "application/javascript": [
       "if (typeof Jupyter !== \"undefined\") {require([\"nbextensions/vpython_libraries/glow.min\"], function(){console.log(\"GLOW LOADED\");});}else{element.textContent = ' ';}"
      ],
      "text/plain": [
       "<IPython.core.display.Javascript object>"
      ]
     },
     "metadata": {},
     "output_type": "display_data"
    },
    {
     "data": {
      "application/javascript": [
       "if (typeof Jupyter !== \"undefined\") {require([\"nbextensions/vpython_libraries/glowcomm\"], function(){console.log(\"GLOWCOMM LOADED\");});}else{element.textContent = ' ';}"
      ],
      "text/plain": [
       "<IPython.core.display.Javascript object>"
      ]
     },
     "metadata": {},
     "output_type": "display_data"
    },
    {
     "data": {
      "application/javascript": [
       "if (typeof Jupyter !== \"undefined\") {require([\"nbextensions/vpython_libraries/jquery-ui.custom.min\"], function(){console.log(\"JQUERY LOADED\");});}else{element.textContent = ' ';}"
      ],
      "text/plain": [
       "<IPython.core.display.Javascript object>"
      ]
     },
     "metadata": {},
     "output_type": "display_data"
    }
   ],
   "source": [
    "from datetime import datetime\n",
    "import math\n",
    "\n",
    "def SnapshotButton(b):\n",
    "    date_time = datetime.now().strftime(\"%m_%d_%Y_%H_%M_%S\")\n",
    "    scene.capture(f'{filenom.replace(\".png\", \"\")}_{date_time}')\n",
    "\n",
    "snapButton = button(text='Take Snapshot', bind=SnapshotButton, name='snapshot')"
   ]
  },
  {
   "cell_type": "markdown",
   "id": "ac24be38",
   "metadata": {},
   "source": [
    "This code was the original method for mapping the 2D texture onto the cylinder, but the texture repeats every 180 degrees instead of wrapping fully around the cylinder once."
   ]
  },
  {
   "cell_type": "code",
   "execution_count": 3,
   "id": "a199f234",
   "metadata": {},
   "outputs": [],
   "source": [
    "#rod = cylinder(pos=vector(0,-(h/2.0),0), axis=vector(0,h,0), radius=r, texture={'file': filenom, 'place': 'all', 'turn': 1})\n",
    "#rod"
   ]
  },
  {
   "cell_type": "markdown",
   "id": "bdb10449",
   "metadata": {},
   "source": [
    "Load texture, calculate key values needed to generate coordinates, define texture segment dimensions."
   ]
  },
  {
   "cell_type": "code",
   "execution_count": 4,
   "id": "fc778bbf",
   "metadata": {},
   "outputs": [
    {
     "name": "stdout",
     "output_type": "stream",
     "text": [
      "Width: 1440px, Height: 1448px, Ratio: 1.00556\n",
      "Radius: 229.18312, Delta Radians: 0.20944\n",
      "Num Tx Segments: 30, Segment Width: 47.91232\n",
      "Num Ty Segments: 30, Segment Height: 48.26667\n"
     ]
    }
   ],
   "source": [
    "from PIL import Image\n",
    "\n",
    "img = Image.open(filenom)\n",
    "w, h = img.size\n",
    "ratio = h / w\n",
    "print(f'Width: {w}px, Height: {h}px, Ratio: {ratio:.5f}')\n",
    "\n",
    "numTxSegments = 30\n",
    "numTySegments = int(numTxSegments * ratio)\n",
    "\n",
    "r = w / (2.0 * math.pi)\n",
    "deltaRads = (2.0 * math.pi) / numTxSegments\n",
    "print(f'Radius: {r:.5f}, Delta Radians: {deltaRads:.5f}')\n",
    "\n",
    "x0 = r * math.cos(0.0)\n",
    "x1 = r * math.cos(deltaRads)\n",
    "\n",
    "y0 = r * math.sin(0.0)\n",
    "y1 = r * math.sin(deltaRads)\n",
    "\n",
    "segW = math.sqrt(math.pow(x1 - x0, 2) + math.pow(y1 - y0, 2))\n",
    "segH = h / numTySegments\n",
    "\n",
    "print(f'Num Tx Segments: {numTxSegments}, Segment Width: {segW:.5f}')\n",
    "print(f'Num Ty Segments: {numTySegments}, Segment Height: {segH:.5f}')"
   ]
  },
  {
   "cell_type": "markdown",
   "id": "b0945496",
   "metadata": {},
   "source": [
    "Render cylinder quadrants while mapping sections of the 2D texture."
   ]
  },
  {
   "cell_type": "code",
   "execution_count": 5,
   "id": "ee8bde3d",
   "metadata": {},
   "outputs": [],
   "source": [
    "startY = -h / 2.0\n",
    "verts = []\n",
    "\n",
    "deltaTx = 1.0 / numTxSegments\n",
    "deltaTy = 1.0 / numTySegments\n",
    "for j in range(numTySegments + 1):\n",
    "    verts.append([])\n",
    "    for i in range(numTxSegments + 1): # Switched y and z\n",
    "        x = r * math.cos(i * deltaRads)\n",
    "        y = startY + (j * segH)\n",
    "        z = r * math.sin(i * deltaRads)\n",
    "        \n",
    "        tx = i * deltaTx\n",
    "        ty = j * deltaTy\n",
    "        verts[j].append(vertex(pos=vector(x,y,z), texpos=vector(tx,ty,0))) # Not sure what to specify for 'normal' yet\n",
    "        \n",
    "for j in range(numTySegments):\n",
    "    for i in range(numTxSegments):\n",
    "        quad(vs=[verts[j][i], verts[j][i+1], verts[j+1][i+1], verts[j+1][i]], texture={'file': filenom})"
   ]
  },
  {
   "cell_type": "markdown",
   "id": "592535d7",
   "metadata": {},
   "source": [
    "Rotate the cylinder while saving out frames along the way if **rotate == True**."
   ]
  },
  {
   "cell_type": "code",
   "execution_count": 6,
   "id": "960370e0",
   "metadata": {},
   "outputs": [],
   "source": [
    "numSegments = 120\n",
    "deltaAngle = (2.0 * math.pi) / numSegments\n",
    "ctr = 1\n",
    "\n",
    "# https://www.glowscript.org/#/user/GlowScriptDemos/folder/Examples/program/RotatingPoints/edit\n",
    "if rotate == True:\n",
    "    sleep(5)\n",
    "    while rotate == True:\n",
    "        # Currently there isn't a way to rotate a points object, so rotate scene.forward:\n",
    "        sleep(2)\n",
    "        scene.forward = scene.forward.rotate(angle=-deltaAngle, axis=vec(0,1,0)) # Angle is in radians\n",
    "        scene.capture(f'{filenom.replace(\".png\", \"\")}_{ctr:05}')\n",
    "        \n",
    "        ctr = ctr + 1\n",
    "        if ctr > (numSegments+1):\n",
    "            rotate = False"
   ]
  }
 ],
 "metadata": {
  "kernelspec": {
   "display_name": "Python 3 (ipykernel)",
   "language": "python",
   "name": "python3"
  },
  "language_info": {
   "codemirror_mode": {
    "name": "ipython",
    "version": 3
   },
   "file_extension": ".py",
   "mimetype": "text/x-python",
   "name": "python",
   "nbconvert_exporter": "python",
   "pygments_lexer": "ipython3",
   "version": "3.10.10"
  }
 },
 "nbformat": 4,
 "nbformat_minor": 5
}
